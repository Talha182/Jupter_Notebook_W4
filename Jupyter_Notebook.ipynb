{
 "cells": [
  {
   "cell_type": "markdown",
   "metadata": {},
   "source": [
    "<center>\n",
    "    <img src=\"https://cf-courses-data.s3.us.cloud-object-storage.appdomain.cloud/IBMDeveloperSkillsNetwork-DS0105EN-SkillsNetwork/labs/Module2/images/SN_web_lightmode.png\" width=\"300\" alt=\"cognitiveclass.ai logo\">\n",
    "</center>\n"
   ]
  },
  {
   "cell_type": "markdown",
   "metadata": {},
   "source": [
    "#### Add your code below following the instructions given in the course\n"
   ]
  },
  {
   "cell_type": "markdown",
   "metadata": {},
   "source": [
    "# My Jupyter Notebook on IBM Watson Studio"
   ]
  },
  {
   "cell_type": "markdown",
   "metadata": {},
   "source": [
    "**Introduction:This is a jupyter notebook for the assignment and all you need to know about data science**</br>\n"
   ]
  },
  {
   "cell_type": "markdown",
   "metadata": {},
   "source": [
    "# Data Science Languages:\n",
    "<h3>1. Python</h3>\n",
    "<h3>2. SQL</h3>\n",
    "<h3>3. R</h3>\n",
    "<h3>4. Julia</h3>\n",
    "<h3>5. Javascript</h3>\n",
    "<h3>6. Scala</h3>\n",
    "<h3>7. Java</h3>\n",
    "<h3>8. Go</h3>\n",
    "<h3>9. MATLAB</h3>\n",
    "<h3>10. C/C++ </h3>"
   ]
  },
  {
   "cell_type": "markdown",
   "metadata": {},
   "source": [
    "# Data Science Libraries:\n",
    "<h3>1. TensorFlow</h3>\n",
    "<h3>2. NumPy</h3>\n",
    "<h3>3. SciPy </h3>\n",
    "<h3>4. Matplotlib </h3>\n",
    "<h3>5. Keras</h3>\n",
    "<h3>6. SciKit-Learn</h3>\n",
    "<h3>7. PyTorch</h3>\n",
    "<h3>8. Caffe2</h3>\n",
    "<h3>9. Pipenv</h3>\n",
    "<h3>10. PyBrain </h3>"
   ]
  },
  {
   "cell_type": "markdown",
   "metadata": {},
   "source": [
    "| **Tools** | **Description** |\n",
    "| --------- | ------------ \n",
    "| Python    | A popular programming language for data analysis, machine learning, and visualization |\n",
    "| R         | A programming language and software environment for statistical computing and graphics |\n",
    "| SQL       | A language for managing and manipulating relational databases |\n",
    "| Pandas    | A Python library used for data manipulation and analysis | \n",
    "| TensorFlow| An open-source platform for machine learning and deep learning |\n",
    "| PyTorch   | An open-source machine learning framework | \n",
    "| Jupyter   | An open-source web application used for creating and sharing documents that contain live code, equations, visualizations, and narrative text |\n",
    "\n"
   ]
  },
  {
   "cell_type": "markdown",
   "metadata": {},
   "source": [
    "2 + 3: This expression represents the addition of 2 and 3, which equals 5.\n",
    "5 * 4: This expression represents the multiplication of 5 and 4, which equals 20.\n",
    "10 - 6: This expression represents the subtraction of 6 from 10, which equals 4.\n",
    "20 / 5: This expression represents the division of 20 by 5, which equals 4.\n",
    "2 + 3 * 4: This expression represents the multiplication of 3 and 4 first, and then adding 2, which equals 14.\n",
    "(2 + 3) * 4: This expression represents adding 2 and 3 first, then multiplying the result by 4, which equals 20."
   ]
  },
  {
   "cell_type": "code",
   "execution_count": 4,
   "metadata": {},
   "outputs": [
    {
     "name": "stdout",
     "output_type": "stream",
     "text": [
      "6\n",
      "15\n"
     ]
    }
   ],
   "source": [
    "# Multiplication\n",
    "x = 2\n",
    "y = 3\n",
    "z = x * y\n",
    "print(z)  # Output: 6\n",
    "\n",
    "# Addition\n",
    "a = 10\n",
    "b = 5\n",
    "c = a + b\n",
    "print(c)  # Output: 15\n"
   ]
  },
  {
   "cell_type": "code",
   "execution_count": 6,
   "metadata": {},
   "outputs": [
    {
     "name": "stdout",
     "output_type": "stream",
     "text": [
      "120 minutes is equal to 2.0 hours\n"
     ]
    }
   ],
   "source": [
    "# Convert minutes into hours\n",
    "# Conversion of minutes to hours\n",
    "minutes = 120\n",
    "hours = minutes / 60\n",
    "print(\"120 minutes is equal to\", hours, \"hours\")\n"
   ]
  },
  {
   "cell_type": "markdown",
   "metadata": {},
   "source": [
    "# Objectives:\n",
    "1. Gain a fundamental understanding of key concepts and tools in data science.\n",
    "2. Develop proficiency in programming languages such as Python and R.\n",
    "3. Learn how to use popular data science libraries such as Pandas, NumPy, Matplotlib, and Scikit-learn.\n",
    "4. Understand statistical concepts and apply statistical methods to data analysis.\n",
    "5. Master machine learning algorithms and techniques for supervised and unsupervised learning.\n",
    "6. Learn how to build and evaluate predictive models using machine learning.\n",
    "7. Acquire skills in data visualization and effectively communicate insights and results to stakeholders.\n",
    "8. Gain experience working with real-world datasets and solving data-driven problems.\n",
    "9. Collaborate with other data scientists and work effectively in a team environment.\n",
    "10. Stay up-to-date with the latest developments and best practices in the field of data science."
   ]
  },
  {
   "cell_type": "markdown",
   "metadata": {},
   "source": [
    "# Author: Talha Aslam "
   ]
  },
  {
   "cell_type": "code",
   "execution_count": null,
   "metadata": {},
   "outputs": [],
   "source": []
  }
 ],
 "metadata": {
  "kernelspec": {
   "display_name": "Python",
   "language": "python",
   "name": "conda-env-python-py"
  },
  "language_info": {
   "codemirror_mode": {
    "name": "ipython",
    "version": 3
   },
   "file_extension": ".py",
   "mimetype": "text/x-python",
   "name": "python",
   "nbconvert_exporter": "python",
   "pygments_lexer": "ipython3",
   "version": "3.7.12"
  }
 },
 "nbformat": 4,
 "nbformat_minor": 4
}
